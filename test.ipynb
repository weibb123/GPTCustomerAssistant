{
 "cells": [
  {
   "cell_type": "code",
   "execution_count": 1,
   "metadata": {},
   "outputs": [],
   "source": [
    "from product import products\n",
    "from langchain.chains import ConversationChain\n",
    "from key import code\n",
    "from langchain.llms import OpenAI\n",
    "import os\n",
    "from prompt import *\n",
    "from langchain.chains import LLMChain\n",
    "from langchain.memory import ConversationBufferMemory\n",
    "from langchain import PromptTemplate"
   ]
  },
  {
   "cell_type": "code",
   "execution_count": 2,
   "metadata": {},
   "outputs": [],
   "source": [
    "os.environ[\"OPENAI_API_KEY\"] = code"
   ]
  },
  {
   "attachments": {},
   "cell_type": "markdown",
   "metadata": {},
   "source": [
    "# Generate product string"
   ]
  },
  {
   "cell_type": "code",
   "execution_count": 25,
   "metadata": {},
   "outputs": [],
   "source": [
    "import json \n",
    "\n",
    "def read_string_to_list(input_string):\n",
    "    if input_string is None:\n",
    "        return None\n",
    "\n",
    "    try:\n",
    "        input_string = input_string.replace(\"'\", \"\\\"\")  # Replace single quotes with double quotes for valid JSON\n",
    "        data = json.loads(input_string)\n",
    "        return data\n",
    "    except json.JSONDecodeError:\n",
    "        print(\"Error: Invalid JSON string\")\n",
    "        return None   "
   ]
  },
  {
   "cell_type": "code",
   "execution_count": 30,
   "metadata": {},
   "outputs": [],
   "source": [
    "def get_product_by_name(name):\n",
    "    return products.get(name, None)\n",
    "\n",
    "def get_product_by_category(category):\n",
    "    return [product for product in products.values() if product[\"category\"] == category]"
   ]
  },
  {
   "cell_type": "code",
   "execution_count": 33,
   "metadata": {},
   "outputs": [],
   "source": [
    "def generate_output_string(data_list):\n",
    "    output_string = \"\"\n",
    "\n",
    "    if data_list is None:\n",
    "        return output_string\n",
    "\n",
    "    for data in data_list:\n",
    "        try:\n",
    "            if \"products\" in data:\n",
    "                products_list = data[\"products\"]\n",
    "                for product_name in products_list:\n",
    "                    product = get_product_by_name(product_name)\n",
    "                    if product:\n",
    "                        output_string += json.dumps(product, indent=4) + \"\\n\"\n",
    "                    else:\n",
    "                        print(f\"Error: Product '{product_name}' not found\")\n",
    "            elif \"category\" in data:\n",
    "                category_name = data[\"category\"]\n",
    "                category_products = get_product_by_category(category_name)\n",
    "                for product in category_products:\n",
    "                    output_string += json.dumps(product, indent=4) + \"\\n\"\n",
    "            else:\n",
    "                print(\"Error: Invalid object format\")\n",
    "        except Exception as e:\n",
    "            print(f\"Error: {e}\")\n",
    "\n",
    "    return output_string "
   ]
  },
  {
   "attachments": {},
   "cell_type": "markdown",
   "metadata": {},
   "source": [
    "## Generate data from GPT response\n",
    "\n",
    "1. Create a string in list of dictionary form with all the categories\n",
    "2. loop through the list of dictionary and convert into big output string"
   ]
  },
  {
   "attachments": {},
   "cell_type": "markdown",
   "metadata": {},
   "source": []
  },
  {
   "cell_type": "code",
   "execution_count": 64,
   "metadata": {},
   "outputs": [],
   "source": [
    "category = \"\"\"[{'category': 'Smartphones and Accessories'},\n",
    "                {'category': 'Computers and Laptops'},\n",
    "                {'category': 'Cameras and Camcorders'},\n",
    "                {'category': 'Smart Home'},\n",
    "                {'category': 'PC Gaming'},\n",
    "                {'category': 'Televisions and Home Theater Systems'},\n",
    "                {'category': 'Gaming Consoles and Accessories'},\n",
    "                {'category': 'Audio Equipment'}]\n",
    "            \"\"\""
   ]
  },
  {
   "cell_type": "code",
   "execution_count": null,
   "metadata": {},
   "outputs": [],
   "source": [
    "category_list = read_string_to_list(category)\n",
    "print(category_list)"
   ]
  },
  {
   "cell_type": "code",
   "execution_count": null,
   "metadata": {},
   "outputs": [],
   "source": [
    "output_string = generate_output_string(category_list)\n",
    "print(output_string)"
   ]
  },
  {
   "attachments": {},
   "cell_type": "markdown",
   "metadata": {},
   "source": [
    "# Experiment"
   ]
  },
  {
   "attachments": {},
   "cell_type": "markdown",
   "metadata": {},
   "source": [
    "## Crash Course on how to add memory to LLMCHAINS"
   ]
  },
  {
   "cell_type": "code",
   "execution_count": 4,
   "metadata": {},
   "outputs": [],
   "source": [
    "human_input = \"tell me about the smartx pro phone and \\\n",
    " the fotosnap camera, the dslr one. \\\n",
    " Also tell me about your tvs\""
   ]
  },
  {
   "cell_type": "code",
   "execution_count": 5,
   "metadata": {},
   "outputs": [],
   "source": [
    "chat_history = \"tvs\""
   ]
  },
  {
   "cell_type": "code",
   "execution_count": 36,
   "metadata": {},
   "outputs": [],
   "source": [
    "product_message = \"\"\"{\n",
    "    \"name\": \"Bowflex-Adjustable Dumbbells\",\n",
    "    \"category\": \"Smartphones and Accessories\",\n",
    "    \"brand\": \"SmartX\",\n",
    "    \"model_number\": \"SX-MP5\",\n",
    "    \"warranty\": \"1 year\",\n",
    "    \"rating\": 4.8,\n",
    "    \"features\": [\n",
    "        \"Space Efficient\",\n",
    "        \"Quieter Workouts\",\n",
    "        \"Wide weight range\"\n",
    "    ],\n",
    "    \"description\": \"Grant you a better performance with these weights\",\n",
    "    \"price\": 429.99\n",
    "}\n",
    "{\n",
    "    \"name\": \"MobiTech Wireless Charger\",\n",
    "    \"category\": \"Smartphones and Accessories\",\n",
    "    \"brand\": \"MobiTech\",\n",
    "    \"model_number\": \"MT-WC10\",\n",
    "    \"warranty\": \"1 year\",\n",
    "    \"rating\": 4.5,\n",
    "    \"features\": [\n",
    "        \"10W fast charging\",\n",
    "        \"Qi-compatible\",\n",
    "        \"LED indicator\",\n",
    "        \"Compact design\"\n",
    "    ],\n",
    "    \"description\": \"A convenient wireless charger for a clutter-free workspace.\",\n",
    "    \"price\": 29.99\n",
    "}\n",
    "{\n",
    "    \"name\": \"SmartX EarBuds\",\n",
    "    \"category\": \"Smartphones and Accessories\",\n",
    "    \"brand\": \"SmartX\",\n",
    "    \"model_number\": \"SX-EB20\",\n",
    "    \"warranty\": \"1 year\",\n",
    "    \"rating\": 4.4,\n",
    "    \"features\": [\n",
    "        \"True wireless\",\n",
    "        \"Bluetooth 5.0\",\n",
    "        \"Touch controls\",\n",
    "        \"24-hour battery life\"\n",
    "    ],\n",
    "    \"description\": \"Experience true wireless freedom with these comfortable earbuds.\",\n",
    "    \"price\": 99.99\n",
    "}\n",
    "{\n",
    "    \"name\": \"Sony a7 III Mirrorless Camera\",\n",
    "    \"category\": \"Cameras and Camcorders\",\n",
    "    \"brand\": \"Sony\",\n",
    "    \"model_number\": \"BW-GL200\",\n",
    "    \"warranty\": \"1 years\",\n",
    "    \"rating\": 4.7,\n",
    "    \"features\": [\n",
    "        \"FE 28-70mm F3.5-5.6 OSS zoom lens\",\n",
    "        \"high speed shooting\",\n",
    "        \"4K HDR Videos\"\n",
    "    ],\n",
    "    \"description\": \"Capture stunning portraits and beautiful action shots\",\n",
    "    \"price\": 1899.99\n",
    "}\n",
    "{\n",
    "    \"name\": \"FotoSnap DSLR Camera\",\n",
    "    \"category\": \"Cameras and Camcorders\",\n",
    "    \"brand\": \"FotoSnap\",\n",
    "    \"model_number\": \"FS-DSLR200\",\n",
    "    \"warranty\": \"1 year\",\n",
    "    \"rating\": 4.7,\n",
    "    \"features\": [\n",
    "        \"24.2MP sensor\",\n",
    "        \"1080p video\",\n",
    "        \"3-inch LCD\",\n",
    "        \"Interchangeable lenses\"\n",
    "    ],\n",
    "    \"description\": \"Capture stunning photos and videos with this versatile DSLR camera.\",\n",
    "    \"price\": 599.99\n",
    "}\n",
    "{\n",
    "    \"name\": \"FotoSnap Mirrorless Camera\",\n",
    "    \"category\": \"Cameras and Camcorders\",\n",
    "    \"brand\": \"FotoSnap\",\n",
    "    \"model_number\": \"FS-ML100\",\n",
    "    \"warranty\": \"1 year\",\n",
    "    \"rating\": 4.6,\n",
    "    \"features\": [\n",
    "        \"20.1MP sensor\",\n",
    "        \"4K video\",\n",
    "        \"3-inch touchscreen\",\n",
    "        \"Interchangeable lenses\"\n",
    "    ],\n",
    "    \"description\": \"A compact and lightweight mirrorless camera with advanced features.\",\n",
    "    \"price\": 799.99\n",
    "}\n",
    "{\n",
    "    \"name\": \"ActionCam 4K\",\n",
    "    \"category\": \"Cameras and Camcorders\",\n",
    "    \"brand\": \"ActionCam\",\n",
    "    \"model_number\": \"AC-4K\",\n",
    "    \"warranty\": \"1 year\",\n",
    "    \"rating\": 4.4,\n",
    "    \"features\": [\n",
    "        \"4K video\",\n",
    "        \"Waterproof\",\n",
    "        \"Image stabilization\",\n",
    "        \"Wi-Fi\"\n",
    "    ],\n",
    "    \"description\": \"Record your adventures with this rugged and compact 4K action camera.\",\n",
    "    \"price\": 299.99\n",
    "}\n",
    "{\n",
    "    \"name\": \"FotoSnap Instant Camera\",\n",
    "    \"category\": \"Cameras and Camcorders\",\n",
    "    \"brand\": \"FotoSnap\",\n",
    "    \"model_number\": \"FS-IC10\",\n",
    "    \"warranty\": \"1 year\",\n",
    "    \"rating\": 4.1,\n",
    "    \"features\": [\n",
    "        \"Instant prints\",\n",
    "        \"Built-in flash\",\n",
    "        \"Selfie mirror\",\n",
    "        \"Battery-powered\"\n",
    "    ],\n",
    "    \"description\": \"Create instant memories with this fun and portable instant camera.\",\n",
    "    \"price\": 69.99\n",
    "}\n",
    "{\n",
    "    \"name\": \"CineView 4K TV\",\n",
    "    \"category\": \"Televisions and Home Theater Systems\",\n",
    "    \"brand\": \"CineView\",\n",
    "    \"model_number\": \"CV-4K55\",\n",
    "    \"warranty\": \"2 years\",\n",
    "    \"rating\": 4.8,\n",
    "    \"features\": [\n",
    "        \"55-inch display\",\n",
    "        \"4K resolution\",\n",
    "        \"HDR\",\n",
    "        \"Smart TV\"\n",
    "    ],\n",
    "    \"description\": \"A stunning 4K TV with vibrant colors and smart features.\",\n",
    "    \"price\": 599.99\n",
    "}\n",
    "{\n",
    "    \"name\": \"SoundMax Home Theater\",\n",
    "    \"category\": \"Televisions and Home Theater Systems\",\n",
    "    \"brand\": \"SoundMax\",\n",
    "    \"model_number\": \"SM-HT100\",\n",
    "    \"warranty\": \"1 year\",\n",
    "    \"rating\": 4.4,\n",
    "    \"features\": [\n",
    "        \"5.1 channel\",\n",
    "        \"1000W output\",\n",
    "        \"Wireless subwoofer\",\n",
    "        \"Bluetooth\"\n",
    "    ],\n",
    "    \"description\": \"A powerful home theater system for an immersive audio experience.\",\n",
    "    \"price\": 399.99\n",
    "}\n",
    "{\n",
    "    \"name\": \"CineView 8K TV\",\n",
    "    \"category\": \"Televisions and Home Theater Systems\",\n",
    "    \"brand\": \"CineView\",\n",
    "    \"model_number\": \"CV-8K65\",\n",
    "    \"warranty\": \"2 years\",\n",
    "    \"rating\": 4.9,\n",
    "    \"features\": [\n",
    "        \"65-inch display\",\n",
    "        \"8K resolution\",\n",
    "        \"HDR\",\n",
    "        \"Smart TV\"\n",
    "    ],\n",
    "    \"description\": \"Experience the future of television with this stunning 8K TV.\",\n",
    "    \"price\": 2999.99\n",
    "}\n",
    "{\n",
    "    \"name\": \"SoundMax Soundbar\",\n",
    "    \"category\": \"Televisions and Home Theater Systems\",\n",
    "    \"brand\": \"SoundMax\",\n",
    "    \"model_number\": \"SM-SB50\",\n",
    "    \"warranty\": \"1 year\",\n",
    "    \"rating\": 4.3,\n",
    "    \"features\": [\n",
    "        \"2.1 channel\",\n",
    "        \"300W output\",\n",
    "        \"Wireless subwoofer\",\n",
    "        \"Bluetooth\"\n",
    "    ],\n",
    "    \"description\": \"Upgrade your TV's audio with this sleek and powerful soundbar.\",\n",
    "    \"price\": 199.99\n",
    "}\n",
    "{\n",
    "    \"name\": \"CineView OLED TV\",\n",
    "    \"category\": \"Televisions and Home Theater Systems\",\n",
    "    \"brand\": \"CineView\",\n",
    "    \"model_number\": \"CV-OLED55\",\n",
    "    \"warranty\": \"2 years\",\n",
    "    \"rating\": 4.7,\n",
    "    \"features\": [\n",
    "        \"55-inch display\",\n",
    "        \"4K resolution\",\n",
    "        \"HDR\",\n",
    "        \"Smart TV\"\n",
    "    ],\n",
    "    \"description\": \"Experience true blacks and vibrant colors with this OLED TV.\",\n",
    "    \"price\": 1499.99\n",
    "}\"\"\"\n",
    "\n",
    "context = product_message"
   ]
  },
  {
   "cell_type": "code",
   "execution_count": 51,
   "metadata": {},
   "outputs": [],
   "source": [
    "template = \"\"\"I want you to act as a customer service assistant for a\n",
    "large electronic store. Respond in a friendly and helpful tone, with very concise answers.\n",
    "Make sure to ask the user relevant follow up questions.\n",
    "\n",
    "Given the context, these are the allowed products\n",
    "Do not assume, from the name of the product, any features or attributes such as relative quality or price.\n",
    "{context}\n",
    "\n",
    "\n",
    "{chat_history}\n",
    "Human: {human_input}\n",
    "Chatbot:\"\"\""
   ]
  },
  {
   "cell_type": "code",
   "execution_count": 39,
   "metadata": {},
   "outputs": [],
   "source": [
    "prompt = PromptTemplate(\n",
    "    input_variables=[\"chat_history\", \"human_input\", \"context\"],\n",
    "    template=template\n",
    ")"
   ]
  },
  {
   "cell_type": "code",
   "execution_count": 40,
   "metadata": {},
   "outputs": [],
   "source": [
    "memory = ConversationBufferMemory(memory_key=\"chat_history\", input_key=\"human_input\")"
   ]
  },
  {
   "cell_type": "code",
   "execution_count": 41,
   "metadata": {},
   "outputs": [],
   "source": [
    "llm = LLMChain(\n",
    "             llm = OpenAI(),\n",
    "             prompt = prompt,\n",
    "             memory=memory,\n",
    "             )"
   ]
  },
  {
   "attachments": {},
   "cell_type": "markdown",
   "metadata": {},
   "source": [
    "## Test Example 1"
   ]
  },
  {
   "cell_type": "code",
   "execution_count": 43,
   "metadata": {},
   "outputs": [],
   "source": [
    "response1 = llm.predict(human_input=\"tell me about the smartx pro phone and \\\n",
    " the fotosnap camera, the dslr one. \\\n",
    " Also tell me about your tvs\", context=context)"
   ]
  },
  {
   "cell_type": "code",
   "execution_count": 44,
   "metadata": {},
   "outputs": [
    {
     "name": "stdout",
     "output_type": "stream",
     "text": [
      " Sure! The SmartX Pro Phone is a great choice with a 1 year warranty, 4.8 rating, and features like Space Efficient, Quieter Workouts, and Wide Weight Range. It retails for $429.99. The FotoSnap DSLR Camera is a great choice with a 1 year warranty, 4.7 rating, and features like 24.2MP sensor, 1080p video, 3-inch LCD, and Interchangeable lenses. It retails for $599.99. We also have a great selection of TVs, such as the CineView 4K TV with a 2 year warranty, 4.8 rating, and features like 55-inch display, 4K resolution, HDR, and Smart TV. It retails for $599.99. Is there anything else I can help you with?\n"
     ]
    }
   ],
   "source": [
    "print(response1)"
   ]
  },
  {
   "attachments": {},
   "cell_type": "markdown",
   "metadata": {},
   "source": [
    "It works!"
   ]
  },
  {
   "attachments": {},
   "cell_type": "markdown",
   "metadata": {},
   "source": [
    "## Example 2"
   ]
  },
  {
   "cell_type": "code",
   "execution_count": 46,
   "metadata": {},
   "outputs": [
    {
     "name": "stdout",
     "output_type": "stream",
     "text": [
      " We have a great selection of TVs, including the CineView 4K TV, CineView 8K TV, and CineView OLED TV. All of our TVs come with a 2 year warranty and various features such as HDR, Smart TV, and more. Do you have any other questions about our TVs?\n",
      "{'chat_history': 'Human: tell me about the smartx pro phone and  the fotosnap camera, the dslr one.  Also tell me about your tvs\\nAI:  Sure! The SmartX Pro Phone is a great choice with a 1 year warranty, 4.8 rating, and features like Space Efficient, Quieter Workouts, and Wide Weight Range. It retails for $429.99. The FotoSnap DSLR Camera is a great choice with a 1 year warranty, 4.7 rating, and features like 24.2MP sensor, 1080p video, 3-inch LCD, and Interchangeable lenses. It retails for $599.99. We also have a great selection of TVs, such as the CineView 4K TV with a 2 year warranty, 4.8 rating, and features like 55-inch display, 4K resolution, HDR, and Smart TV. It retails for $599.99. Is there anything else I can help you with?\\nHuman: what tvs do you have?\\nAI:  We have a great selection of TVs, including the CineView 4K TV, CineView 8K TV, and CineView OLED TV. All of our TVs come with a 2 year warranty and various features such as HDR, Smart TV, and more. Do you have any other questions about our TVs?'}\n"
     ]
    }
   ],
   "source": [
    "response1 = llm.predict(human_input=\"what tvs do you have?\", context=context)\n",
    "print(response1)\n",
    "print(memory.load_memory_variables({}))"
   ]
  },
  {
   "cell_type": "code",
   "execution_count": 50,
   "metadata": {},
   "outputs": [
    {
     "name": "stdout",
     "output_type": "stream",
     "text": [
      " The cheapest TV we have is the CineView 4K TV, which retails for $599.99. Do you have any other questions about our TVs?\n",
      "{'chat_history': 'Human: tell me about the smartx pro phone and  the fotosnap camera, the dslr one.  Also tell me about your tvs\\nAI:  Sure! The SmartX Pro Phone is a great choice with a 1 year warranty, 4.8 rating, and features like Space Efficient, Quieter Workouts, and Wide Weight Range. It retails for $429.99. The FotoSnap DSLR Camera is a great choice with a 1 year warranty, 4.7 rating, and features like 24.2MP sensor, 1080p video, 3-inch LCD, and Interchangeable lenses. It retails for $599.99. We also have a great selection of TVs, such as the CineView 4K TV with a 2 year warranty, 4.8 rating, and features like 55-inch display, 4K resolution, HDR, and Smart TV. It retails for $599.99. Is there anything else I can help you with?\\nHuman: what tvs do you have?\\nAI:  We have a great selection of TVs, including the CineView 4K TV, CineView 8K TV, and CineView OLED TV. All of our TVs come with a 2 year warranty and various features such as HDR, Smart TV, and more. Do you have any other questions about our TVs?\\nHuman: which is the cheapest\\nAI:  The cheapest TV we have is the CineView 4K TV, which retails for $599.99. Do you have any other questions about our TVs?\\nHuman: which is the cheapest\\nAI:  The cheapest TV we have is the CineView 4K TV, which retails for $599.99. Do you have any other questions about our TVs?'}\n"
     ]
    }
   ],
   "source": [
    "response2 = llm.predict(human_input=\"which is the cheapest\", context=context)\n",
    "print(response2)\n",
    "print(memory.load_memory_variables({}))"
   ]
  }
 ],
 "metadata": {
  "kernelspec": {
   "display_name": "LLM",
   "language": "python",
   "name": "python3"
  },
  "language_info": {
   "codemirror_mode": {
    "name": "ipython",
    "version": 3
   },
   "file_extension": ".py",
   "mimetype": "text/x-python",
   "name": "python",
   "nbconvert_exporter": "python",
   "pygments_lexer": "ipython3",
   "version": "3.8.16"
  },
  "orig_nbformat": 4
 },
 "nbformat": 4,
 "nbformat_minor": 2
}
